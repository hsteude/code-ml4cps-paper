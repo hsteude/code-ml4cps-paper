{
 "cells": [
  {
   "cell_type": "code",
   "execution_count": 1,
   "id": "50972dea-c114-4982-b00a-f186667a2479",
   "metadata": {},
   "outputs": [],
   "source": [
    "from container_component_src.model.datamodule import TimeStampDataset\n",
    "from container_component_src.model.lightning_module import TimeStampVAE\n",
    "from torch.utils.data import DataLoader\n",
    "import pandas as pd\n",
    "import os"
   ]
  },
  {
   "cell_type": "code",
   "execution_count": 2,
   "id": "b0bb125c-c258-4f36-aa69-57dcdf223bd5",
   "metadata": {},
   "outputs": [],
   "source": [
    "test_df_path = 's3://mlpipeline-henrik-sebastian-steude/v2/artifacts/columbus-eclss-ad-pipeline/40d6cd03-6cf7-4272-918a-bff69869d3a7/create-train-dev-test-split/3b7bedd7-61c2-4dbf-a253-5965be66632a/df_test'\n",
    "storage_options = {\n",
    "    \"key\": os.environ[\"AWS_ACCESS_KEY_ID\"],\n",
    "    \"secret\": os.environ[\"AWS_SECRET_ACCESS_KEY\"],\n",
    "    \"client_kwargs\": {\"endpoint_url\": f'http://{os.environ[\"S3_ENDPOINT\"]}'},\n",
    "}\n",
    "test_df = pd.read_parquet(test_df_path, storage_options=storage_options)"
   ]
  },
  {
   "cell_type": "code",
   "execution_count": 3,
   "id": "609b197a-70b4-44b6-8fce-fd97bac91ed3",
   "metadata": {},
   "outputs": [],
   "source": [
    "test_dl =  DataLoader(\n",
    "            TimeStampDataset(test_df),\n",
    "            batch_size=10,\n",
    "            num_workers=1,\n",
    ")\n",
    "batch = next(iter(test_dl))"
   ]
  },
  {
   "cell_type": "code",
   "execution_count": 4,
   "id": "f6b4fd1b-a2ee-4ceb-8162-68a54c33d1e2",
   "metadata": {},
   "outputs": [
    {
     "data": {
      "text/plain": [
       "torch.Size([10, 182])"
      ]
     },
     "execution_count": 4,
     "metadata": {},
     "output_type": "execute_result"
    }
   ],
   "source": [
    "batch.shape"
   ]
  },
  {
   "cell_type": "code",
   "execution_count": 5,
   "id": "e546123f-fc98-4fdb-a301-20eca8f6911f",
   "metadata": {},
   "outputs": [
    {
     "data": {
      "text/plain": [
       "(10, 182)"
      ]
     },
     "execution_count": 5,
     "metadata": {},
     "output_type": "execute_result"
    }
   ],
   "source": [
    "batch.numpy().shape"
   ]
  },
  {
   "cell_type": "code",
   "execution_count": 13,
   "id": "6abe52d5-6983-4c3d-bcbc-dd1b42cbdab9",
   "metadata": {},
   "outputs": [],
   "source": [
    "import requests\n",
    "import json\n",
    "import numpy as np\n",
    "\n",
    "api_key = \"xxxxx\" # Change me!\n",
    "\n",
    "# Create sample data with the CORRECT dimensions\n",
    "batch_size = 10\n",
    "expected_features = 181  # Model expects exactly 181 features\n",
    "\n",
    "response_list = []\n",
    "for batch in test_dl:\n",
    "    # Your current data has 182 features, so we'll trim it\n",
    "    current_data = batch.numpy()\n",
    "    trimmed_data = current_data[:, :expected_features]  # Keep only the first 181 features\n",
    "    \n",
    "    # Convert to the proper format for the request\n",
    "    batch_data = trimmed_data.astype(np.float32).tolist()\n",
    "    \n",
    "    # Print shape for verification\n",
    "    # print(f\"Adjusted input shape: {np.array(batch_data).shape}\")\n",
    "    \n",
    "    # Send the request with the correct shape\n",
    "    response = requests.post(\n",
    "        \"http://eclss-point-vae.henrik-sebastian-steude.svc.cluster.local/v2/models/eclss-vae/infer\",\n",
    "        headers={\"Content-Type\": \"application/json\", \"X-API-Key\": api_key},\n",
    "        data=json.dumps({\n",
    "            \"inputs\": [{\n",
    "                \"name\": \"input__0\",\n",
    "                \"shape\": [batch_size, expected_features],  # Explicitly set to [10, 181]\n",
    "                \"datatype\": \"FP32\",\n",
    "                \"data\": batch_data\n",
    "            }]\n",
    "        })\n",
    "    )\n",
    "    response_list.append(response.content)\n"
   ]
  },
  {
   "cell_type": "code",
   "execution_count": 14,
   "id": "f5bcbe72-5238-4790-9ef1-b29133b12bcf",
   "metadata": {},
   "outputs": [
    {
     "data": {
      "text/plain": [
       "b'{\"model_name\":\"eclss-vae\",\"model_version\":\"1\",\"outputs\":[{\"name\":\"output__0\",\"datatype\":\"FP32\",\"shape\":[10],\"data\":[182143920.0,182921104.0,181859888.0,181804672.0,182453760.0,182667856.0,182199664.0,181941872.0,182357408.0,182331344.0]}]}'"
      ]
     },
     "execution_count": 14,
     "metadata": {},
     "output_type": "execute_result"
    }
   ],
   "source": [
    "response_list[0]"
   ]
  },
  {
   "cell_type": "code",
   "execution_count": 15,
   "id": "a4ff466b-994d-4051-823e-ec9ab38a755b",
   "metadata": {},
   "outputs": [
    {
     "data": {
      "text/plain": [
       "3741"
      ]
     },
     "execution_count": 15,
     "metadata": {},
     "output_type": "execute_result"
    }
   ],
   "source": [
    "len(response_list)"
   ]
  },
  {
   "cell_type": "code",
   "execution_count": null,
   "id": "d0009109-42ea-47d8-ac0e-9ea6fa2ed3af",
   "metadata": {},
   "outputs": [],
   "source": []
  }
 ],
 "metadata": {
  "kernelspec": {
   "display_name": "pycon",
   "language": "python",
   "name": "pycon"
  },
  "language_info": {
   "codemirror_mode": {
    "name": "ipython",
    "version": 3
   },
   "file_extension": ".py",
   "mimetype": "text/x-python",
   "name": "python",
   "nbconvert_exporter": "python",
   "pygments_lexer": "ipython3",
   "version": "3.11.10"
  }
 },
 "nbformat": 4,
 "nbformat_minor": 5
}
