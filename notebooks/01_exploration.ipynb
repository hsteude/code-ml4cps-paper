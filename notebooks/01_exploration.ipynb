{
 "cells": [
  {
   "cell_type": "code",
   "execution_count": null,
   "id": "51286315-7722-41db-a309-24f0e130f4c5",
   "metadata": {},
   "outputs": [],
   "source": [
    "import pandas as pd\n",
    "import os\n",
    "import toml\n",
    "import matplotlib.pyplot as plt"
   ]
  },
  {
   "cell_type": "code",
   "execution_count": null,
   "id": "ee32b9e4-d39a-4827-98b5-b9653eff1a15",
   "metadata": {},
   "outputs": [],
   "source": [
    "# load config\n",
    "with open(\"../config.toml\", \"r\") as f:\n",
    "    config = toml.load(f)\n",
    "\n",
    "storage_options={\n",
    "        \"key\": os.environ['AWS_ACCESS_KEY_ID'],\n",
    "        \"secret\": os.environ['AWS_SECRET_ACCESS_KEY'],\n",
    "        \"client_kwargs\": {\"endpoint_url\": f'http://{os.environ[\"S3_ENDPOINT\"]}'}}"
   ]
  },
  {
   "cell_type": "code",
   "execution_count": null,
   "id": "8626a1b4-9444-4e60-99fa-870f716f1609",
   "metadata": {},
   "outputs": [],
   "source": [
    "# minio paths\n",
    "PREPROC_DF_PATH = 'minio://mlpipeline/v2/artifacts/columbus-eclss-ad-pipeline/8a46342b-a526-44d4-a55c-8bf1ba4f5c69/run-dask-preprocessing/preprocessed_df'\n",
    "LABEL_XLS_PATH = 'minio://eclss-data/ARs - ECLSS - 2022.02.07 - reduced to 2020-2021 v3.xls'\n",
    "LABELS_SERIES_PATH = 'minio://mlpipeline/v2/artifacts/columbus-eclss-ad-pipeline/78feeea4-d7eb-464f-9909-d9cea24635d8/get-label-series/labels_series'"
   ]
  },
  {
   "cell_type": "code",
   "execution_count": null,
   "id": "6b1cfad9-50ef-4e12-a39e-1acc769d75ef",
   "metadata": {},
   "outputs": [],
   "source": [
    "preproc_df = pd.read_parquet(PREPROC_DF_PATH.replace('minio', 's3'), storage_options=storage_options)"
   ]
  },
  {
   "cell_type": "code",
   "execution_count": null,
   "id": "e2d800e8-e13e-4f64-b8c1-2861f042eee6",
   "metadata": {},
   "outputs": [],
   "source": [
    "labels_df = pd.read_excel(LABEL_XLS_PATH.replace('minio', 's3'), storage_options=storage_options)"
   ]
  },
  {
   "cell_type": "code",
   "execution_count": null,
   "id": "8a470e00-0413-4cfa-8c9d-da5dffd59ac3",
   "metadata": {},
   "outputs": [],
   "source": [
    "labels_seires_df = pd.read_parquet(LABELS_SERIES_PATH.replace('minio', 's3'), storage_options=storage_options)"
   ]
  },
  {
   "cell_type": "code",
   "execution_count": null,
   "id": "7da96752-7b96-45d2-b351-09e5d97b3fe0",
   "metadata": {},
   "outputs": [],
   "source": [
    "labels_seires_df.Anomaly.value_counts()"
   ]
  },
  {
   "cell_type": "code",
   "execution_count": null,
   "id": "f2da53cc-76ec-4f9c-972a-9279356ec82a",
   "metadata": {},
   "outputs": [],
   "source": [
    "plt.plot(labels_seires_df.Anomaly)"
   ]
  },
  {
   "cell_type": "code",
   "execution_count": null,
   "id": "46f02919-5c59-4aab-bb1f-9b43270209bd",
   "metadata": {},
   "outputs": [],
   "source": []
  }
 ],
 "metadata": {
  "kernelspec": {
   "display_name": "ml4cps",
   "language": "python",
   "name": "ml4cps"
  },
  "language_info": {
   "codemirror_mode": {
    "name": "ipython",
    "version": 3
   },
   "file_extension": ".py",
   "mimetype": "text/x-python",
   "name": "python",
   "nbconvert_exporter": "python",
   "pygments_lexer": "ipython3",
   "version": "3.9.7"
  }
 },
 "nbformat": 4,
 "nbformat_minor": 5
}
